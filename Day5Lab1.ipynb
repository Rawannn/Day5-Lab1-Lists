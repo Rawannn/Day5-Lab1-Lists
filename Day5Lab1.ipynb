{
 "cells": [
  {
   "cell_type": "code",
   "execution_count": 12,
   "id": "d47e8a35",
   "metadata": {},
   "outputs": [
    {
     "name": "stdout",
     "output_type": "stream",
     "text": [
      "Sum is 139\n",
      "Largest number is 45\n",
      "Even numbers List [4, 30, 2, 10]\n",
      "List Slicing [5, 4, 17, 19, 30]\n"
     ]
    }
   ],
   "source": [
    "list = [5, 4, 17, 19, 30, 2, 7, 10, 45]\n",
    "size = len(list)\n",
    "sum = 0\n",
    "evenList = []\n",
    "listSlice = list[0:5]\n",
    "for x in list:\n",
    "    sum += x\n",
    "    if x % 2 == 0:\n",
    "        evenList.append(x)\n",
    "print (\"Sum is\",sum)\n",
    "print (\"Largest number is\", max(list))\n",
    "print (\"Even numbers List\", evenList)\n",
    "print (\"List Slicing\", listSlice)"
   ]
  },
  {
   "cell_type": "code",
   "execution_count": null,
   "id": "2b4a6cc8",
   "metadata": {},
   "outputs": [],
   "source": []
  },
  {
   "cell_type": "code",
   "execution_count": null,
   "id": "0444ef5b",
   "metadata": {},
   "outputs": [],
   "source": []
  }
 ],
 "metadata": {
  "kernelspec": {
   "display_name": "Python 3 (ipykernel)",
   "language": "python",
   "name": "python3"
  },
  "language_info": {
   "codemirror_mode": {
    "name": "ipython",
    "version": 3
   },
   "file_extension": ".py",
   "mimetype": "text/x-python",
   "name": "python",
   "nbconvert_exporter": "python",
   "pygments_lexer": "ipython3",
   "version": "3.9.13"
  }
 },
 "nbformat": 4,
 "nbformat_minor": 5
}
